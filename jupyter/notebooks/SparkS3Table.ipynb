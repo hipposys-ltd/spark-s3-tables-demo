{
 "cells": [
  {
   "cell_type": "code",
   "execution_count": 2,
   "id": "015a017f-0dc6-4e3f-a884-2f18fb69ef84",
   "metadata": {},
   "outputs": [],
   "source": [
    "from pyspark.sql import SparkSession\n",
    "import os \n",
    "S3_TABLES_BUCKET = os.getenv(\"S3_TABLES_BUCKET\")"
   ]
  },
  {
   "cell_type": "code",
   "execution_count": 12,
   "id": "1b3c5001-f0ec-4855-a74f-542eb1048fa5",
   "metadata": {},
   "outputs": [],
   "source": [
    "# .config(\"spark.jars\", \"/opt/spark/jars/iceberg-spark-runtime-3.5_2.12-1.6.1.jar,/opt/spark/jars/nessie-spark-extensions-3.5_2.12-0.99.0.jar,/opt/spark/jars/bundle-2.20.131.jar,/opt/spark/jars/url-connection-client-2.20.131.jar,/opt/spark/jars/s3-tables-catalog-for-iceberg-0.1.3.jar\") \\\n",
    "# .master(\"spark://spark:7077\") \\\n",
    "spark = SparkSession.builder \\\n",
    "        .appName(\"PySpark Job with localhost:7077\") \\\n",
    "        .master(\"spark://spark:7077\") \\\n",
    "        .config(\"spark.jars.packages\", \n",
    "            \"org.apache.iceberg:iceberg-spark-runtime-3.5_2.12:1.6.1,\" \n",
    "            \"software.amazon.s3tables:s3-tables-catalog-for-iceberg:0.1.3,\") \\\n",
    "        .config(\"spark.sql.catalog.s3tablesbucket\", \"org.apache.iceberg.spark.SparkCatalog\") \\\n",
    "        .config(\"spark.sql.catalog.s3tablesbucket.catalog-impl\", \"software.amazon.s3tables.iceberg.S3TablesCatalog\") \\\n",
    "        .config(\"spark.sql.catalog.s3tablesbucket.warehouse\", \n",
    "                S3_TABLES_BUCKET) \\\n",
    "        .config(\"spark.sql.extensions\", \"org.apache.iceberg.spark.extensions.IcebergSparkSessionExtensions\") \\\n",
    "        .getOrCreate()\n"
   ]
  },
  {
   "cell_type": "code",
   "execution_count": 13,
   "id": "c51d8036-89ee-4bbc-9930-aef37ceb46a4",
   "metadata": {},
   "outputs": [
    {
     "data": {
      "text/plain": [
       "DataFrame[]"
      ]
     },
     "execution_count": 13,
     "metadata": {},
     "output_type": "execute_result"
    }
   ],
   "source": [
    "spark.sql(\"\"\"\n",
    "    CREATE NAMESPACE IF NOT EXISTS s3tablesbucket.my_namespace\n",
    "\"\"\")"
   ]
  },
  {
   "cell_type": "code",
   "execution_count": 14,
   "id": "e42efcf0-08d4-4e8d-b71d-8298a1b25daa",
   "metadata": {},
   "outputs": [
    {
     "data": {
      "text/plain": [
       "DataFrame[]"
      ]
     },
     "execution_count": 14,
     "metadata": {},
     "output_type": "execute_result"
    }
   ],
   "source": [
    "spark.sql(\"\"\"\n",
    "    CREATE TABLE IF NOT EXISTS s3tablesbucket.my_namespace.my_table\n",
    "    ( id INT, name STRING, value INT ) USING iceberg\n",
    "\"\"\")\n"
   ]
  },
  {
   "cell_type": "code",
   "execution_count": 15,
   "id": "b140c7ba-7486-4531-8022-06765094a891",
   "metadata": {},
   "outputs": [
    {
     "name": "stdout",
     "output_type": "stream",
     "text": [
      "+---+----+-----+\n",
      "| id|name|value|\n",
      "+---+----+-----+\n",
      "+---+----+-----+\n",
      "\n"
     ]
    }
   ],
   "source": [
    "spark.sql(\"SELECT * FROM s3tablesbucket.my_namespace.my_table\").show()"
   ]
  },
  {
   "cell_type": "code",
   "execution_count": 16,
   "id": "107ecd71-82af-4843-96bf-bedcbf41d29d",
   "metadata": {},
   "outputs": [],
   "source": [
    "spark.stop()"
   ]
  }
 ],
 "metadata": {
  "kernelspec": {
   "display_name": "Python 3.11",
   "language": "python",
   "name": "python3.11"
  },
  "language_info": {
   "codemirror_mode": {
    "name": "ipython",
    "version": 3
   },
   "file_extension": ".py",
   "mimetype": "text/x-python",
   "name": "python",
   "nbconvert_exporter": "python",
   "pygments_lexer": "ipython3",
   "version": "3.11.11"
  }
 },
 "nbformat": 4,
 "nbformat_minor": 5
}
